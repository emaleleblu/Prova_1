{
 "cells": [
  {
   "cell_type": "code",
   "execution_count": null,
   "metadata": {},
   "outputs": [],
   "source": [
    "import numpy as np"
   ]
  },
  {
   "cell_type": "code",
   "execution_count": 1,
   "metadata": {},
   "outputs": [],
   "source": [
    "# Simulating a GARCH(1, 1) process\n",
    "\n",
    "np.random.seed(2)\n",
    "\n",
    "a0 = 0.2\n",
    "a1 = 0.5\n",
    "b1 = 0.3\n",
    "\n",
    "n = 10000\n",
    "w = np.random.normal(size=n)\n",
    "eps = np.zeros_like(w)\n",
    "sigsq = np.zeros_like(w)\n",
    "\n",
    "for i in range(1, n):\n",
    "    sigsq[i] = a0 + a1*(eps[i-1]**2) + b1*sigsq[i-1]\n",
    "    eps[i] = w[i] * np.sqrt(sigsq[i])"
   ]
  },
  {
   "cell_type": "code",
   "execution_count": 4,
   "metadata": {},
   "outputs": [
    {
     "data": {
      "image/png": "[encoded data removed]",
      "text/plain": [
       "<Figure size 432x288 with 1 Axes>"
      ]
     },
     "metadata": {
      "needs_background": "light"
     },
     "output_type": "display_data"
    }
   ],
   "source": [
    "from statsmodels.graphics.tsaplots import plot_acf\n",
    "import matplotlib.pyplot as plt\n",
    "\n",
    "plot_acf(eps)\n",
    "plt.show()"
   ]
  },
  {
   "cell_type": "code",
   "execution_count": 5,
   "metadata": {},
   "outputs": [
    {
     "data": {
      "image/png": "[encoded data removed]",
      "text/plain": [
       "<Figure size 432x288 with 1 Axes>"
      ]
     },
     "metadata": {
      "needs_background": "light"
     },
     "output_type": "display_data"
    }
   ],
   "source": [
    "# Si noti che la serie sembra la realizzazione di un processo di rumore bianco discreto\n",
    "# Tuttavia, se tracciamo il correlogramma del quadrato della serie vediamo che si tratta sostanzialmente di un processo condizionalmente eteroschedastico \n",
    "# attraverso il decadimento di ritardi successivi\n",
    "plot_acf(eps**2)\n",
    "plt.show()"
   ]
  },
  {
   "cell_type": "code",
   "execution_count": 6,
   "metadata": {},
   "outputs": [
    {
     "name": "stdout",
     "output_type": "stream",
     "text": [
      "Iteration:      5,   Func. Count:     34,   Neg. LLF: 13129.790134449831\n",
      "Iteration:     10,   Func. Count:     62,   Neg. LLF: 12237.312781716888\n",
      "Optimization terminated successfully    (Exit mode 0)\n",
      "            Current function value: 12237.303267318712\n",
      "            Iterations: 13\n",
      "            Function evaluations: 76\n",
      "            Gradient evaluations: 13\n",
      "                     Constant Mean - GARCH Model Results                      \n",
      "==============================================================================\n",
      "Dep. Variable:                      y   R-squared:                       0.000\n",
      "Mean Model:             Constant Mean   Adj. R-squared:                  0.000\n",
      "Vol Model:                      GARCH   Log-Likelihood:               -12237.3\n",
      "Distribution:                  Normal   AIC:                           24482.6\n",
      "Method:            Maximum Likelihood   BIC:                           24511.4\n",
      "                                        No. Observations:                10000\n",
      "Date:                Wed, Jul 13 2022   Df Residuals:                     9999\n",
      "Time:                        10:55:07   Df Model:                            1\n",
      "                                  Mean Model                                  \n",
      "==============================================================================\n",
      "                  coef    std err          t      P>|t|       95.0% Conf. Int.\n",
      "------------------------------------------------------------------------------\n",
      "mu         -6.7225e-03  6.735e-03     -0.998      0.318 [-1.992e-02,6.478e-03]\n",
      "                            Volatility Model                            \n",
      "========================================================================\n",
      "                 coef    std err          t      P>|t|  95.0% Conf. Int.\n",
      "------------------------------------------------------------------------\n",
      "omega          0.2021  1.043e-02     19.383  1.084e-83 [  0.182,  0.223]\n",
      "alpha[1]       0.5162  2.016e-02     25.611 1.144e-144 [  0.477,  0.556]\n",
      "beta[1]        0.2879  1.870e-02     15.395  1.781e-53 [  0.251,  0.325]\n",
      "========================================================================\n",
      "\n",
      "Covariance estimator: robust\n"
     ]
    }
   ],
   "source": [
    "#proviamo ad adattare un modello GARCH a questa serie simulata in modo da verificare se otteniamo gli stessi parametri della seria simulata.\n",
    "# Fit a GARCH(1, 1) model to our simulated EPS series\n",
    "# We use the arch_model function from the ARCH package\n",
    "\n",
    "from arch import arch_model\n",
    "\n",
    "am = arch_model(eps)\n",
    "res = am.fit(update_freq=5)\n",
    "print(res.summary())"
   ]
  },
  {
   "cell_type": "code",
   "execution_count": 7,
   "metadata": {},
   "outputs": [],
   "source": [
    "#Possiamo vedere che i parametri veri rientrano tutti nei rispettivi intervalli di confidenza."
   ]
  },
  {
   "cell_type": "markdown",
   "metadata": {},
   "source": [
    "SIMULAZIONE CON DATI FINANZIARI S&P 500"
   ]
  },
  {
   "cell_type": "code",
   "execution_count": 9,
   "metadata": {},
   "outputs": [
    {
     "name": "stdout",
     "output_type": "stream",
     "text": [
      "[*********************100%***********************]  1 of 1 completed\n"
     ]
    }
   ],
   "source": [
    "import yfinance as yf\n",
    "\n",
    "symbol = '^GSPC'\n",
    "data = yf.download(symbol, start=\"2007-01-01\")\n",
    "data = data.asfreq('b').fillna(method='ffill')"
   ]
  },
  {
   "cell_type": "code",
   "execution_count": 10,
   "metadata": {},
   "outputs": [],
   "source": [
    "#Possiamo quindi calcolare le differenze dei rendimenti logaritmici del prezzo di chiusura:\n",
    "\n",
    "Return = data['Adj Close'].pct_change()\n",
    "LogRet = np.log(data['Adj Close']).diff().dropna()"
   ]
  },
  {
   "cell_type": "code",
   "execution_count": 12,
   "metadata": {},
   "outputs": [
    {
     "data": {
      "image/png": "[encoded data removed]",
      "text/plain": [
       "<Figure size 432x288 with 1 Axes>"
      ]
     },
     "metadata": {
      "needs_background": "light"
     },
     "output_type": "display_data"
    }
   ],
   "source": [
    "plt.plot(LogRet)\n",
    "plt.show()"
   ]
  },
  {
   "cell_type": "code",
   "execution_count": 19,
   "metadata": {},
   "outputs": [
    {
     "name": "stderr",
     "output_type": "stream",
     "text": [
      "c:\\Users\\Utente\\Desktop\\Progetto\\venv\\lib\\site-packages\\statsmodels\\base\\model.py:604: ConvergenceWarning: Maximum Likelihood optimization failed to converge. Check mle_retvals\n",
      "  warnings.warn(\"Maximum Likelihood optimization failed to \"\n",
      "c:\\Users\\Utente\\Desktop\\Progetto\\venv\\lib\\site-packages\\statsmodels\\base\\model.py:604: ConvergenceWarning: Maximum Likelihood optimization failed to converge. Check mle_retvals\n",
      "  warnings.warn(\"Maximum Likelihood optimization failed to \"\n",
      "c:\\Users\\Utente\\Desktop\\Progetto\\venv\\lib\\site-packages\\statsmodels\\tsa\\statespace\\sarimax.py:978: UserWarning: Non-invertible starting MA parameters found. Using zeros as starting parameters.\n",
      "  warn('Non-invertible starting MA parameters found.'\n",
      "c:\\Users\\Utente\\Desktop\\Progetto\\venv\\lib\\site-packages\\statsmodels\\base\\model.py:604: ConvergenceWarning: Maximum Likelihood optimization failed to converge. Check mle_retvals\n",
      "  warnings.warn(\"Maximum Likelihood optimization failed to \"\n",
      "c:\\Users\\Utente\\Desktop\\Progetto\\venv\\lib\\site-packages\\statsmodels\\base\\model.py:604: ConvergenceWarning: Maximum Likelihood optimization failed to converge. Check mle_retvals\n",
      "  warnings.warn(\"Maximum Likelihood optimization failed to \"\n",
      "c:\\Users\\Utente\\Desktop\\Progetto\\venv\\lib\\site-packages\\statsmodels\\tsa\\statespace\\sarimax.py:966: UserWarning: Non-stationary starting autoregressive parameters found. Using zeros as starting parameters.\n",
      "  warn('Non-stationary starting autoregressive parameters'\n",
      "c:\\Users\\Utente\\Desktop\\Progetto\\venv\\lib\\site-packages\\statsmodels\\tsa\\statespace\\sarimax.py:978: UserWarning: Non-invertible starting MA parameters found. Using zeros as starting parameters.\n",
      "  warn('Non-invertible starting MA parameters found.'\n",
      "c:\\Users\\Utente\\Desktop\\Progetto\\venv\\lib\\site-packages\\statsmodels\\base\\model.py:604: ConvergenceWarning: Maximum Likelihood optimization failed to converge. Check mle_retvals\n",
      "  warnings.warn(\"Maximum Likelihood optimization failed to \"\n",
      "c:\\Users\\Utente\\Desktop\\Progetto\\venv\\lib\\site-packages\\statsmodels\\tsa\\statespace\\sarimax.py:966: UserWarning: Non-stationary starting autoregressive parameters found. Using zeros as starting parameters.\n",
      "  warn('Non-stationary starting autoregressive parameters'\n",
      "c:\\Users\\Utente\\Desktop\\Progetto\\venv\\lib\\site-packages\\statsmodels\\tsa\\statespace\\sarimax.py:978: UserWarning: Non-invertible starting MA parameters found. Using zeros as starting parameters.\n",
      "  warn('Non-invertible starting MA parameters found.'\n",
      "c:\\Users\\Utente\\Desktop\\Progetto\\venv\\lib\\site-packages\\statsmodels\\tsa\\statespace\\sarimax.py:966: UserWarning: Non-stationary starting autoregressive parameters found. Using zeros as starting parameters.\n",
      "  warn('Non-stationary starting autoregressive parameters'\n",
      "c:\\Users\\Utente\\Desktop\\Progetto\\venv\\lib\\site-packages\\statsmodels\\tsa\\statespace\\sarimax.py:978: UserWarning: Non-invertible starting MA parameters found. Using zeros as starting parameters.\n",
      "  warn('Non-invertible starting MA parameters found.'\n",
      "c:\\Users\\Utente\\Desktop\\Progetto\\venv\\lib\\site-packages\\statsmodels\\tsa\\statespace\\sarimax.py:966: UserWarning: Non-stationary starting autoregressive parameters found. Using zeros as starting parameters.\n",
      "  warn('Non-stationary starting autoregressive parameters'\n",
      "c:\\Users\\Utente\\Desktop\\Progetto\\venv\\lib\\site-packages\\statsmodels\\tsa\\statespace\\sarimax.py:978: UserWarning: Non-invertible starting MA parameters found. Using zeros as starting parameters.\n",
      "  warn('Non-invertible starting MA parameters found.'\n",
      "c:\\Users\\Utente\\Desktop\\Progetto\\venv\\lib\\site-packages\\statsmodels\\base\\model.py:604: ConvergenceWarning: Maximum Likelihood optimization failed to converge. Check mle_retvals\n",
      "  warnings.warn(\"Maximum Likelihood optimization failed to \"\n",
      "c:\\Users\\Utente\\Desktop\\Progetto\\venv\\lib\\site-packages\\statsmodels\\tsa\\statespace\\sarimax.py:966: UserWarning: Non-stationary starting autoregressive parameters found. Using zeros as starting parameters.\n",
      "  warn('Non-stationary starting autoregressive parameters'\n",
      "c:\\Users\\Utente\\Desktop\\Progetto\\venv\\lib\\site-packages\\statsmodels\\tsa\\statespace\\sarimax.py:978: UserWarning: Non-invertible starting MA parameters found. Using zeros as starting parameters.\n",
      "  warn('Non-invertible starting MA parameters found.'\n",
      "c:\\Users\\Utente\\Desktop\\Progetto\\venv\\lib\\site-packages\\statsmodels\\base\\model.py:604: ConvergenceWarning: Maximum Likelihood optimization failed to converge. Check mle_retvals\n",
      "  warnings.warn(\"Maximum Likelihood optimization failed to \"\n",
      "c:\\Users\\Utente\\Desktop\\Progetto\\venv\\lib\\site-packages\\statsmodels\\tsa\\statespace\\sarimax.py:966: UserWarning: Non-stationary starting autoregressive parameters found. Using zeros as starting parameters.\n",
      "  warn('Non-stationary starting autoregressive parameters'\n",
      "c:\\Users\\Utente\\Desktop\\Progetto\\venv\\lib\\site-packages\\statsmodels\\tsa\\statespace\\sarimax.py:978: UserWarning: Non-invertible starting MA parameters found. Using zeros as starting parameters.\n",
      "  warn('Non-invertible starting MA parameters found.'\n",
      "c:\\Users\\Utente\\Desktop\\Progetto\\venv\\lib\\site-packages\\statsmodels\\tsa\\statespace\\sarimax.py:966: UserWarning: Non-stationary starting autoregressive parameters found. Using zeros as starting parameters.\n",
      "  warn('Non-stationary starting autoregressive parameters'\n",
      "c:\\Users\\Utente\\Desktop\\Progetto\\venv\\lib\\site-packages\\statsmodels\\tsa\\statespace\\sarimax.py:978: UserWarning: Non-invertible starting MA parameters found. Using zeros as starting parameters.\n",
      "  warn('Non-invertible starting MA parameters found.'\n",
      "c:\\Users\\Utente\\Desktop\\Progetto\\venv\\lib\\site-packages\\statsmodels\\tsa\\statespace\\sarimax.py:966: UserWarning: Non-stationary starting autoregressive parameters found. Using zeros as starting parameters.\n",
      "  warn('Non-stationary starting autoregressive parameters'\n",
      "c:\\Users\\Utente\\Desktop\\Progetto\\venv\\lib\\site-packages\\statsmodels\\tsa\\statespace\\sarimax.py:978: UserWarning: Non-invertible starting MA parameters found. Using zeros as starting parameters.\n",
      "  warn('Non-invertible starting MA parameters found.'\n",
      "c:\\Users\\Utente\\Desktop\\Progetto\\venv\\lib\\site-packages\\statsmodels\\base\\model.py:604: ConvergenceWarning: Maximum Likelihood optimization failed to converge. Check mle_retvals\n",
      "  warnings.warn(\"Maximum Likelihood optimization failed to \"\n",
      "c:\\Users\\Utente\\Desktop\\Progetto\\venv\\lib\\site-packages\\statsmodels\\tsa\\statespace\\sarimax.py:966: UserWarning: Non-stationary starting autoregressive parameters found. Using zeros as starting parameters.\n",
      "  warn('Non-stationary starting autoregressive parameters'\n",
      "c:\\Users\\Utente\\Desktop\\Progetto\\venv\\lib\\site-packages\\statsmodels\\tsa\\statespace\\sarimax.py:978: UserWarning: Non-invertible starting MA parameters found. Using zeros as starting parameters.\n",
      "  warn('Non-invertible starting MA parameters found.'\n",
      "c:\\Users\\Utente\\Desktop\\Progetto\\venv\\lib\\site-packages\\statsmodels\\base\\model.py:604: ConvergenceWarning: Maximum Likelihood optimization failed to converge. Check mle_retvals\n",
      "  warnings.warn(\"Maximum Likelihood optimization failed to \"\n",
      "c:\\Users\\Utente\\Desktop\\Progetto\\venv\\lib\\site-packages\\statsmodels\\base\\model.py:604: ConvergenceWarning: Maximum Likelihood optimization failed to converge. Check mle_retvals\n",
      "  warnings.warn(\"Maximum Likelihood optimization failed to \"\n",
      "c:\\Users\\Utente\\Desktop\\Progetto\\venv\\lib\\site-packages\\statsmodels\\base\\model.py:604: ConvergenceWarning: Maximum Likelihood optimization failed to converge. Check mle_retvals\n",
      "  warnings.warn(\"Maximum Likelihood optimization failed to \"\n"
     ]
    },
    {
     "name": "stdout",
     "output_type": "stream",
     "text": [
      "p =  1\n",
      "d =  0\n",
      "q =  0\n"
     ]
    }
   ],
   "source": [
    "import pandas as pd\n",
    "from statsmodels.tsa.arima.model import ARIMA\n",
    "\n",
    "order_aic = []\n",
    "# Loop over p values from 0-4\n",
    "for p in range(5):\n",
    "    # Loop over d values from 0-1\n",
    "    for d in range(2):\n",
    "        # Loop over q values from 0-4\n",
    "        for q in range(5):\n",
    "            try:\n",
    "                # create and fit ARMA(p,q) model\n",
    "                model = ARIMA(LogRet, order=(p, d, q))\n",
    "                results = model.fit()\n",
    "\n",
    "                # Append order and results tuple\n",
    "                order_aic.append((p, d, q, results.aic, results))\n",
    "            except Exception as e:\n",
    "                print(str(e))\n",
    "                pass\n",
    "\n",
    "# Construct DataFrame from order_aic\n",
    "order_df = pd.DataFrame(order_aic, columns=['p', 'd', 'q', 'AIC', 'Results'])\n",
    "\n",
    "# Get the result of best order model\n",
    "best_result = order_df.sort_values('AIC').iloc[0]\n",
    "print(\"p = \", best_result.p)\n",
    "print(\"d = \", best_result.d)\n",
    "print(\"q = \", best_result.q)"
   ]
  },
  {
   "cell_type": "code",
   "execution_count": 20,
   "metadata": {},
   "outputs": [
    {
     "data": {
      "image/png": "[encoded data removed]",
      "text/plain": [
       "<Figure size 432x288 with 1 Axes>"
      ]
     },
     "metadata": {
      "needs_background": "light"
     },
     "output_type": "display_data"
    }
   ],
   "source": [
    "#Dal momento che abbiamo già differenziato i rendimenti della serie SP500, otteniamo la componente integrata d uguale a zero\n",
    "'''Otteniamo un modello ARIMA(4,0,3), ovvero quattro parametri autoregressivi e tre parametri di media mobile.\n",
    "\n",
    "Ora possiamo verificare se i residui di questo modello adattato hanno evidenze di  un comportamento  di eteroschedasticità condizionata. \n",
    "A tale scopo dobbiamo tracciare il correlogramma dei residui:'''\n",
    "from statsmodels.graphics.tsaplots import plot_acf\n",
    "import matplotlib.pyplot as plt\n",
    "\n",
    "# Get residuals of the model\n",
    "resid = best_result.Results.resid\n",
    "\n",
    "# Plot ACF of residuals\n",
    "plot_acf(resid, alpha=0.05, lags=30)\n",
    "plt.show()\n"
   ]
  },
  {
   "cell_type": "code",
   "execution_count": 21,
   "metadata": {},
   "outputs": [
    {
     "data": {
      "image/png": "[encoded data removed]",
      "text/plain": [
       "<Figure size 432x288 with 1 Axes>"
      ]
     },
     "metadata": {
      "needs_background": "light"
     },
     "output_type": "display_data"
    }
   ],
   "source": [
    "#Sembra la realizzazione di un processo di rumore bianco discreto che indica che abbiamo raggiunto un buon adattamento con il modello ARIMA(4,0,3).\n",
    "\n",
    "#Per verificare il comportamento di eteroschedasticità condizionata dobbiamo quadrare i residui e tracciare il corrispondente correlogramma:\n",
    "\n",
    "plot_acf(resid**2, alpha=0.05, lags=30)\n",
    "plt.show()"
   ]
  },
  {
   "cell_type": "code",
   "execution_count": 22,
   "metadata": {},
   "outputs": [
    {
     "name": "stdout",
     "output_type": "stream",
     "text": [
      "Optimization terminated successfully    (Exit mode 0)\n",
      "            Current function value: -13130.950538562196\n",
      "            Iterations: 7\n",
      "            Function evaluations: 32\n",
      "            Gradient evaluations: 3\n"
     ]
    },
    {
     "name": "stderr",
     "output_type": "stream",
     "text": [
      "c:\\Users\\Utente\\Desktop\\Progetto\\venv\\lib\\site-packages\\arch\\univariate\\base.py:309: DataScaleWarning: y is poorly scaled, which may affect convergence of the optimizer when\n",
      "estimating the model parameters. The scale of y is 0.0001623. Parameter\n",
      "estimation work better when this value is between 1 and 1000. The recommended\n",
      "rescaling is 100 * y.\n",
      "\n",
      "This warning can be disabled by either rescaling y before initializing the\n",
      "model or by setting rescale=False.\n",
      "\n",
      "  warnings.warn(\n"
     ]
    }
   ],
   "source": [
    "#Possiamo vedere una chiara evidenza di correlazione seriale nei residui quadratici, \n",
    "# portandoci alla conclusione che la serie dei rendimenti logaritmici differenziati dell’S&P 500 presenta un comportamento  di eteroschedasticità condizionata\n",
    "\n",
    "#A  questo punto siamo in grado di adattare un modello GARCH\n",
    "\n",
    "from arch import arch_model\n",
    "\n",
    "am = arch_model(LogRet, vol='garch')\n",
    "res = am.fit(update_freq=5)"
   ]
  },
  {
   "cell_type": "code",
   "execution_count": 23,
   "metadata": {},
   "outputs": [
    {
     "data": {
      "image/png": "[encoded data removed]",
      "text/plain": [
       "<Figure size 432x288 with 1 Axes>"
      ]
     },
     "metadata": {
      "needs_background": "light"
     },
     "output_type": "display_data"
    }
   ],
   "source": [
    "resid = res.resid\n",
    "plot_acf(resid, alpha=0.05, lags=30)\n",
    "plt.show()"
   ]
  },
  {
   "cell_type": "code",
   "execution_count": null,
   "metadata": {},
   "outputs": [],
   "source": [
    "#l correlogramma sembra la realizzazione di un processo di rumore bianco discreto, che indica il buon adattamento del modello.\n",
    "#abbiamo quella che sembra la realizzazione di un processo di rumore bianco discreto, \n",
    "# indicando che abbiamo “spiegato” la correlazione seriale presente nei residui con un’appropriata miscela di ARIMA(p,d,q) e GARCH(p, q)."
   ]
  }
 ],
 "metadata": {
  "kernelspec": {
   "display_name": "Python 3.8.11 ('venv': venv)",
   "language": "python",
   "name": "python3"
  },
  "language_info": {
   "codemirror_mode": {
    "name": "ipython",
    "version": 3
   },
   "file_extension": ".py",
   "mimetype": "text/x-python",
   "name": "python",
   "nbconvert_exporter": "python",
   "pygments_lexer": "ipython3",
   "version": "3.8.11"
  },
  "orig_nbformat": 4,
  "vscode": {
   "interpreter": {
    "hash": "8691f2c72458e451fe6d9330cd52cde0edb1513f432987de59667a6e132de6fe"
   }
  }
 },
 "nbformat": 4,
 "nbformat_minor": 2
}
