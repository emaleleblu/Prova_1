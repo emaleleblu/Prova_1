{
 "cells": [
  {
   "cell_type": "code",
   "execution_count": null,
   "metadata": {},
   "outputs": [],
   "source": [
    "import numpy as np"
   ]
  },
  {
   "cell_type": "code",
   "execution_count": 1,
   "metadata": {},
   "outputs": [],
   "source": [
    "# Simulating a GARCH(1, 1) process\n",
    "\n",
    "np.random.seed(2)\n",
    "\n",
    "a0 = 0.2\n",
    "a1 = 0.5\n",
    "b1 = 0.3\n",
    "\n",
    "n = 10000\n",
    "w = np.random.normal(size=n)\n",
    "eps = np.zeros_like(w)\n",
    "sigsq = np.zeros_like(w)\n",
    "\n",
    "for i in range(1, n):\n",
    "    sigsq[i] = a0 + a1*(eps[i-1]**2) + b1*sigsq[i-1]\n",
    "    eps[i] = w[i] * np.sqrt(sigsq[i])"
   ]
  },
  {
   "cell_type": "code",
   "execution_count": 4,
   "metadata": {},
   "outputs": [
    {
     "data": {
      "image/png": "[encoded data removed]",
      "text/plain": [
       "<Figure size 432x288 with 1 Axes>"
      ]
     },
     "metadata": {
      "needs_background": "light"
     },
     "output_type": "display_data"
    }
   ],
   "source": [
    "from statsmodels.graphics.tsaplots import plot_acf\n",
    "import matplotlib.pyplot as plt\n",
    "\n",
    "plot_acf(eps)\n",
    "plt.show()"
   ]
  },
  {
   "cell_type": "code",
   "execution_count": 5,
   "metadata": {},
   "outputs": [
    {
     "data": {
      "image/png": "[encoded data removed]",
      "text/plain": [
       "<Figure size 432x288 with 1 Axes>"
      ]
     },
     "metadata": {
      "needs_background": "light"
     },
     "output_type": "display_data"
    }
   ],
   "source": [
    "# Si noti che la serie sembra la realizzazione di un processo di rumore bianco discreto\n",
    "# Tuttavia, se tracciamo il correlogramma del quadrato della serie vediamo che si tratta sostanzialmente di un processo condizionalmente eteroschedastico \n",
    "# attraverso il decadimento di ritardi successivi\n",
    "plot_acf(eps**2)\n",
    "plt.show()"
   ]
  },
  {
   "cell_type": "code",
   "execution_count": 6,
   "metadata": {},
   "outputs": [
    {
     "name": "stdout",
     "output_type": "stream",
     "text": [
      "Iteration:      5,   Func. Count:     34,   Neg. LLF: 13129.790134449831\n",
      "Iteration:     10,   Func. Count:     62,   Neg. LLF: 12237.312781716888\n",
      "Optimization terminated successfully    (Exit mode 0)\n",
      "            Current function value: 12237.303267318712\n",
      "            Iterations: 13\n",
      "            Function evaluations: 76\n",
      "            Gradient evaluations: 13\n",
      "                     Constant Mean - GARCH Model Results                      \n",
      "==============================================================================\n",
      "Dep. Variable:                      y   R-squared:                       0.000\n",
      "Mean Model:             Constant Mean   Adj. R-squared:                  0.000\n",
      "Vol Model:                      GARCH   Log-Likelihood:               -12237.3\n",
      "Distribution:                  Normal   AIC:                           24482.6\n",
      "Method:            Maximum Likelihood   BIC:                           24511.4\n",
      "                                        No. Observations:                10000\n",
      "Date:                Wed, Jul 13 2022   Df Residuals:                     9999\n",
      "Time:                        10:55:07   Df Model:                            1\n",
      "                                  Mean Model                                  \n",
      "==============================================================================\n",
      "                  coef    std err          t      P>|t|       95.0% Conf. Int.\n",
      "------------------------------------------------------------------------------\n",
      "mu         -6.7225e-03  6.735e-03     -0.998      0.318 [-1.992e-02,6.478e-03]\n",
      "                            Volatility Model                            \n",
      "========================================================================\n",
      "                 coef    std err          t      P>|t|  95.0% Conf. Int.\n",
      "------------------------------------------------------------------------\n",
      "omega          0.2021  1.043e-02     19.383  1.084e-83 [  0.182,  0.223]\n",
      "alpha[1]       0.5162  2.016e-02     25.611 1.144e-144 [  0.477,  0.556]\n",
      "beta[1]        0.2879  1.870e-02     15.395  1.781e-53 [  0.251,  0.325]\n",
      "========================================================================\n",
      "\n",
      "Covariance estimator: robust\n"
     ]
    }
   ],
   "source": [
    "#proviamo ad adattare un modello GARCH a questa serie simulata in modo da verificare se otteniamo gli stessi parametri della seria simulata.\n",
    "# Fit a GARCH(1, 1) model to our simulated EPS series\n",
    "# We use the arch_model function from the ARCH package\n",
    "\n",
    "from arch import arch_model\n",
    "\n",
    "am = arch_model(eps)\n",
    "res = am.fit(update_freq=5)\n",
    "print(res.summary())"
   ]
  },
  {
   "cell_type": "code",
   "execution_count": 7,
   "metadata": {},
   "outputs": [],
   "source": [
    "#Possiamo vedere che i parametri veri rientrano tutti nei rispettivi intervalli di confidenza."
   ]
  },
  {
   "cell_type": "code",
   "execution_count": null,
   "metadata": {},
   "outputs": [],
   "source": []
  },
  {
   "cell_type": "markdown",
   "metadata": {},
   "source": []
  }
 ],
 "metadata": {
  "kernelspec": {
   "display_name": "Python 3.8.11 ('venv': venv)",
   "language": "python",
   "name": "python3"
  },
  "language_info": {
   "codemirror_mode": {
    "name": "ipython",
    "version": 3
   },
   "file_extension": ".py",
   "mimetype": "text/x-python",
   "name": "python",
   "nbconvert_exporter": "python",
   "pygments_lexer": "ipython3",
   "version": "3.8.11"
  },
  "orig_nbformat": 4,
  "vscode": {
   "interpreter": {
    "hash": "8691f2c72458e451fe6d9330cd52cde0edb1513f432987de59667a6e132de6fe"
   }
  }
 },
 "nbformat": 4,
 "nbformat_minor": 2
}
